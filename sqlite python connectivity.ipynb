{
 "cells": [
  {
   "cell_type": "code",
   "execution_count": 15,
   "id": "f69306aa",
   "metadata": {},
   "outputs": [
    {
     "name": "stdout",
     "output_type": "stream",
     "text": [
      "Musical 1\n",
      "Western 2\n",
      "Horror 2\n",
      "War 2\n",
      "Sport 3\n",
      "Music 3\n",
      "Family 3\n",
      "History 6\n",
      "Fantasy 7\n",
      "Mystery 7\n",
      "Crime 11\n",
      "Animation 13\n",
      "Romance 13\n",
      "Thriller 14\n",
      "Sci-Fi 18\n",
      "Biography 21\n",
      "Comedy 31\n",
      "Action 33\n",
      "Adventure 43\n",
      "Drama 77\n"
     ]
    }
   ],
   "source": [
    "import pandas as pd\n",
    "import numpy as np\n",
    "import sqlite3 as sq\n",
    "db=sq.connect(\"IMDB.sqlite\")\n",
    "data=pd.read_sql_query(\"Select * from genre\",db)\n",
    "data=data[data.genre !=\"\"]\n",
    "value,count=np.unique(data.genre,return_counts=True)\n",
    "ind=count.argsort()\n",
    "value=value[ind]\n",
    "count=count[ind]\n",
    "for i in range(len(value)):\n",
    "    print(value[i],count[i])\n"
   ]
  },
  {
   "cell_type": "markdown",
   "id": "a56b91fa",
   "metadata": {},
   "source": [
    "IMDB.sqlite' database contains all details of movies and has three tables with name IMDB, genre and earning.\n",
    "Find the highest-grossing movie (i.e domestic earning + worldwide earning) in IMDB database.\n",
    "Print the rating of that movie.\n",
    "Output Format:\n",
    "rating"
   ]
  },
  {
   "cell_type": "code",
   "execution_count": 1,
   "id": "85b93b7e",
   "metadata": {},
   "outputs": [
    {
     "ename": "NameError",
     "evalue": "name 'db' is not defined",
     "output_type": "error",
     "traceback": [
      "\u001b[1;31m---------------------------------------------------------------------------\u001b[0m",
      "\u001b[1;31mNameError\u001b[0m                                 Traceback (most recent call last)",
      "\u001b[1;32m~\\AppData\\Local\\Temp/ipykernel_24888/133539313.py\u001b[0m in \u001b[0;36m<module>\u001b[1;34m\u001b[0m\n\u001b[0;32m      2\u001b[0m \u001b[1;32mimport\u001b[0m \u001b[0mpandas\u001b[0m \u001b[1;32mas\u001b[0m \u001b[0mpd\u001b[0m\u001b[1;33m\u001b[0m\u001b[1;33m\u001b[0m\u001b[0m\n\u001b[0;32m      3\u001b[0m \u001b[1;32mimport\u001b[0m \u001b[0mnumpy\u001b[0m \u001b[1;32mas\u001b[0m \u001b[0mnp\u001b[0m\u001b[1;33m\u001b[0m\u001b[1;33m\u001b[0m\u001b[0m\n\u001b[1;32m----> 4\u001b[1;33m \u001b[0mdb\u001b[0m\u001b[1;33m.\u001b[0m\u001b[0mclose\u001b[0m\u001b[1;33m(\u001b[0m\u001b[1;33m)\u001b[0m\u001b[1;33m\u001b[0m\u001b[1;33m\u001b[0m\u001b[0m\n\u001b[0m\u001b[0;32m      5\u001b[0m \u001b[0mdb\u001b[0m\u001b[1;33m=\u001b[0m\u001b[0msq\u001b[0m\u001b[1;33m.\u001b[0m\u001b[0mconnect\u001b[0m\u001b[1;33m(\u001b[0m\u001b[1;34m\"IMDB.sqlite\"\u001b[0m\u001b[1;33m)\u001b[0m\u001b[1;33m\u001b[0m\u001b[1;33m\u001b[0m\u001b[0m\n\u001b[0;32m      6\u001b[0m \u001b[0mdata\u001b[0m\u001b[1;33m=\u001b[0m\u001b[0mpd\u001b[0m\u001b[1;33m.\u001b[0m\u001b[0mread_sql_query\u001b[0m\u001b[1;33m(\u001b[0m\u001b[1;34m\"Select Domestic + Worldwide as dd from earning order by Domestic limit 1\"\u001b[0m\u001b[1;33m,\u001b[0m\u001b[0mdb\u001b[0m\u001b[1;33m)\u001b[0m\u001b[1;33m\u001b[0m\u001b[1;33m\u001b[0m\u001b[0m\n",
      "\u001b[1;31mNameError\u001b[0m: name 'db' is not defined"
     ]
    }
   ],
   "source": [
    "import sqlite3 as sq\n",
    "import pandas as pd\n",
    "import numpy as np\n",
    "db.close()\n",
    "db=sq.connect(\"IMDB.sqlite\")\n",
    "data=pd.read_sql_query(\"Select Domestic + Worldwide as dd from earning order by Domestic limit 1\",db)\n",
    "dt=data.to_sql(\"tad\",db)\n",
    "cur=db.cursor()\n",
    "cur.execute(\"Select * from tad\")\n",
    "tu=cur.fetchone()\n",
    "print(tu[1])\n"
   ]
  },
  {
   "cell_type": "raw",
   "id": "d892c908",
   "metadata": {},
   "source": [
    "IMDB.sqlite database contains all details of movies and has three tables with name IMDB, genre and earning.\n",
    "Find the movie which has maximum net profit in IMDB Movie Database.\n",
    "Print the movie name.\n",
    "Note: Net Profit= Total Earning(Domestic+WorldWide earning) - budget\n",
    "Output Format:\n",
    "movie_name"
   ]
  },
  {
   "cell_type": "code",
   "execution_count": 36,
   "id": "f8ec7e99",
   "metadata": {},
   "outputs": [
    {
     "name": "stdout",
     "output_type": "stream",
     "text": [
      "Star Wars: The Force Awakens (2015)\n"
     ]
    }
   ],
   "source": [
    "import sqlite3 as sq\n",
    "import pandas as pd\n",
    "import numpy as np\n",
    "def f(a):\n",
    "    if a==' ':\n",
    "        return 0.0;\n",
    "    return a;\n",
    "db=sq.connect(\"IMDB.sqlite\")\n",
    "cur=db.cursor()\n",
    "data=pd.read_sql_query(\"Select Title,Budget,Domestic,Worldwide from IMDB join earning on earning.Movie_id=IMDB.Movie_id \",db)\n",
    "data.Budget=data.Budget.apply(f)\n",
    "data.Budget=pd.to_numeric(data.Budget)\n",
    "data[\"proft\"]=data[\"Domestic\"]+data[\"Worldwide\"]-data[\"Budget\"]\n",
    "data=data[data.proft==max(data.proft)]\n",
    "print(data.Title.values[0])\n"
   ]
  },
  {
   "cell_type": "raw",
   "id": "4fdab985",
   "metadata": {},
   "source": [
    "IMDB.sqlite database contains all details of movies and has three tables with name IMDB, genre and earning.\n",
    "Find the least budgeted movie in IMDB Movie Database.\n",
    "If there is more than one least budgeted movies then print the movie which has maximum net profit.\n",
    "Note: Net Profit= Total Earning(Domestic+WorldWide earning) - budget\n",
    "Output Format:\n",
    "movie_name"
   ]
  },
  {
   "cell_type": "code",
   "execution_count": 42,
   "id": "f05cd853",
   "metadata": {},
   "outputs": [
    {
     "name": "stdout",
     "output_type": "stream",
     "text": [
      "Short Term 12 (2013)\n"
     ]
    }
   ],
   "source": [
    "import sqlite3 as sq\n",
    "import pandas as pd\n",
    "import numpy as np\n",
    "def f(a):\n",
    "    if a==' ':\n",
    "        return 0.0;\n",
    "    return a;\n",
    "db=sq.connect(\"IMDB.sqlite\")\n",
    "cur=db.cursor()\n",
    "data=pd.read_sql_query(\"Select Title,Budget,Domestic,Worldwide from IMDB join earning on earning.Movie_id=IMDB.Movie_id \",db)\n",
    "data.Budget=data.Budget.apply(f)\n",
    "data.Budget=pd.to_numeric(data.Budget)\n",
    "data[\"proft\"]=data[\"Domestic\"]+data[\"Worldwide\"]-data[\"Budget\"]\n",
    "data=data[data.Budget==min(data.Budget)]\n",
    "data=data[data.proft==max(data.proft)]\n",
    "print(data.Title.values[0])"
   ]
  },
  {
   "cell_type": "markdown",
   "id": "0eb7af3a",
   "metadata": {},
   "source": [
    "IMDB Year Top\n",
    "Send Feedback\n",
    "IMDB.sqlite' database contains all details of movies and has three tables with name IMDB, genre and earning.\n",
    "Find the highest-grossing movie (i.e domestic earning + worldwide earning) in IMDB database year wise.\n",
    "Print the Year and name of the movie which was the highest grosser in that year.\n",
    "Note:Print the year in ascending order.\n",
    "Output Format:\n",
    "year_1 name_movie_1\n",
    "year_2 name_movie_2\n",
    "year_3 name_movie_3\n",
    ". . .\n",
    ". . ."
   ]
  },
  {
   "cell_type": "code",
   "execution_count": 79,
   "id": "65c375ab",
   "metadata": {},
   "outputs": [
    {
     "name": "stdout",
     "output_type": "stream",
     "text": [
      "2010 Toy Story 3 (2010)\n",
      "2011 Rise of the Planet of the Apes (2011)\n",
      "2012 The Avengers (2012)\n",
      "2013 The Hunger Games: Catching Fire (2013)\n",
      "2014 Guardians of the Galaxy (2014)\n",
      "2015 Star Wars: The Force Awakens (2015)\n",
      "2016 Rogue One (2016)\n"
     ]
    }
   ],
   "source": [
    "import sqlite3 as sq\n",
    "import pandas as pd\n",
    "import numpy as np\n",
    "def f(a):\n",
    "    if a==' ':\n",
    "        return 0.0;\n",
    "    return a;\n",
    "\n",
    "def y(a):\n",
    "    t=a.split()\n",
    "    t=t[-1]\n",
    "    t=t[1:len(t)-1]\n",
    "    return t\n",
    "db=sq.connect(\"IMDB.sqlite\")\n",
    "cur=db.cursor()\n",
    "data=pd.read_sql_query(\"Select Title,Budget,Domestic,Worldwide from IMDB join earning on earning.Movie_id=IMDB.Movie_id \",db)\n",
    "data[\"year\"]=data.Title.apply(y)\n",
    "data.Budget=data.Budget.apply(f)\n",
    "data.Budget=pd.to_numeric(data.Budget)\n",
    "data[\"grossing\"]=data[\"Domestic\"]+data[\"Worldwide\"]\n",
    "grouped=data.groupby(\"year\").agg(mt=(\"grossing\",np.max)).sort_values(ascending=True,by=\"year\")\n",
    "\n",
    "ins=grouped.index\n",
    "val=grouped.values\n",
    "for i in range(len(ins)):\n",
    "    name=data[data.grossing==val[i][0]][\"Title\"]\n",
    "    print(ins[i],name.values[0])\n",
    "\n"
   ]
  }
 ],
 "metadata": {
  "kernelspec": {
   "display_name": "Python 3 (ipykernel)",
   "language": "python",
   "name": "python3"
  },
  "language_info": {
   "codemirror_mode": {
    "name": "ipython",
    "version": 3
   },
   "file_extension": ".py",
   "mimetype": "text/x-python",
   "name": "python",
   "nbconvert_exporter": "python",
   "pygments_lexer": "ipython3",
   "version": "3.9.7"
  }
 },
 "nbformat": 4,
 "nbformat_minor": 5
}
